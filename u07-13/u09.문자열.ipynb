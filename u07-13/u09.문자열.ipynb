{
 "cells": [
  {
   "cell_type": "markdown",
   "metadata": {},
   "source": [
    "# Unit 9. 문자열 사용하기"
   ]
  },
  {
   "cell_type": "code",
   "execution_count": null,
   "metadata": {},
   "outputs": [],
   "source": [
    "# Steing을 입력하는 다양한 방법\n",
    "s1 = \"I'm a student.\"\n",
    "s2 = 'I\\'m a student.'\n",
    "s3 = '''I'm a student.'''"
   ]
  },
  {
   "cell_type": "code",
   "execution_count": null,
   "metadata": {},
   "outputs": [],
   "source": [
    "s4 = '''\n",
    "안녕하세요?\n",
    "저는 영희입니다.\n",
    "'''"
   ]
  },
  {
   "cell_type": "code",
   "execution_count": 1,
   "metadata": {},
   "outputs": [
    {
     "data": {
      "text/plain": [
       "'철수영희'"
      ]
     },
     "execution_count": 1,
     "metadata": {},
     "output_type": "execute_result"
    }
   ],
   "source": [
    "'철수' + '영희'"
   ]
  },
  {
   "cell_type": "code",
   "execution_count": 4,
   "metadata": {},
   "outputs": [
    {
     "name": "stdout",
     "output_type": "stream",
     "text": [
      "철수와 영희는 제주도에 삽니다.\n"
     ]
    }
   ],
   "source": [
    "name1, name2 = '철수', '영희'\n",
    "res = name1 + '와 ' + name2 + '는 제주도에 삽니다.'\n",
    "print(res)"
   ]
  },
  {
   "cell_type": "code",
   "execution_count": 6,
   "metadata": {},
   "outputs": [
    {
     "name": "stdout",
     "output_type": "stream",
     "text": [
      "철수와 영희는 제주도에 삽니다.\n"
     ]
    }
   ],
   "source": [
    "# Python 3.6부터 f-string 사용 가능\n",
    "res2 = f'{name1}와 {name2}는 제주도에 삽니다.'\n",
    "print(res2)"
   ]
  },
  {
   "cell_type": "code",
   "execution_count": 8,
   "metadata": {},
   "outputs": [
    {
     "name": "stdout",
     "output_type": "stream",
     "text": [
      "철수와 영희는 제주도에 삽니다.\n",
      "철수와 영희는 제주도에 삽니다.\n"
     ]
    }
   ],
   "source": [
    "res2 = f'{name1}와 {name2}는 제주도에 삽니다.'\n",
    "print(res2)\n",
    "res3 = f\"{name1}와 {name2}는 제주도에 삽니다.\"\n",
    "print(res3)"
   ]
  },
  {
   "cell_type": "code",
   "execution_count": 9,
   "metadata": {},
   "outputs": [
    {
     "name": "stdout",
     "output_type": "stream",
     "text": [
      "철수와 영희는 제주도에 삽니다. 철수와 영희는 제주도에 삽니다.\n"
     ]
    }
   ],
   "source": [
    "res2 = f'{name1}와 {name2}는 제주도에 삽니다.'\n",
    "res3 = f\"{name1}와 {name2}는 제주도에 삽니다.\"\n",
    "print(res2, res3)"
   ]
  },
  {
   "cell_type": "code",
   "execution_count": 2,
   "metadata": {},
   "outputs": [
    {
     "name": "stdout",
     "output_type": "stream",
     "text": [
      "'Python' is a \"programming language\"\n",
      "that lets you work quickly\n",
      "and\n",
      "integrate systems more effectively.\n"
     ]
    }
   ],
   "source": [
    "# 다음 소스 코드를 완성하여 실행 결과대로 문자열이 출력되게 만드세요.\n",
    "# 'Python' is a \"programming language\" \n",
    "# that lets you work quickly \n",
    "# and \n",
    "# integrate systems more effectively.\n",
    "\n",
    "s = ''''Python' is a \"programming language\"\n",
    "that lets you work quickly\n",
    "and\n",
    "integrate systems more effectively.'''\n",
    "print(s)"
   ]
  },
  {
   "cell_type": "markdown",
   "metadata": {},
   "source": []
  },
  {
   "cell_type": "markdown",
   "metadata": {},
   "source": []
  }
 ],
 "metadata": {
  "interpreter": {
   "hash": "72d8290bce898e2123793bdcf5016b68a0411406de21a03f1958d3a075c7de15"
  },
  "kernelspec": {
   "display_name": "Python 3.8.8 64-bit ('base': conda)",
   "language": "python",
   "name": "python3"
  },
  "language_info": {
   "codemirror_mode": {
    "name": "ipython",
    "version": 3
   },
   "file_extension": ".py",
   "mimetype": "text/x-python",
   "name": "python",
   "nbconvert_exporter": "python",
   "pygments_lexer": "ipython3",
   "version": "3.8.8"
  },
  "orig_nbformat": 4
 },
 "nbformat": 4,
 "nbformat_minor": 2
}
