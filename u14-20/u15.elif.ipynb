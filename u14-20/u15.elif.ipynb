{
 "cells": [
  {
   "cell_type": "markdown",
   "metadata": {},
   "source": [
    "# Unit 15. Elif"
   ]
  },
  {
   "cell_type": "markdown",
   "metadata": {},
   "source": []
  },
  {
   "cell_type": "code",
   "execution_count": 1,
   "metadata": {},
   "outputs": [],
   "source": [
    "# 90점 이상 A, 80점 이상 B, 70점 이상 C, 60점 이상 D, 아니면 F\n",
    "import random"
   ]
  },
  {
   "cell_type": "code",
   "execution_count": 3,
   "metadata": {},
   "outputs": [
    {
     "name": "stdout",
     "output_type": "stream",
     "text": [
      "94 A\n"
     ]
    }
   ],
   "source": [
    "# 가장 앞 순서의 elif문이 우선 (만약, else는 그대로 하고 elif문을 거꾸로 60점 이상이면 'D'라고 설정했을 때 80점도 'D'가 됨)\n",
    "score = random.randint(50, 100)\n",
    "if score >= 90:\n",
    "    grade = 'A' \n",
    "elif score >= 80:\n",
    "    grade = 'B' \n",
    "elif score >= 70:\n",
    "    grade = 'C' \n",
    "elif score >= 60:\n",
    "    grade = 'D' \n",
    "else:\n",
    "    grade = 'F'\n",
    "print(score, grade)"
   ]
  },
  {
   "cell_type": "code",
   "execution_count": 8,
   "metadata": {},
   "outputs": [
    {
     "name": "stdout",
     "output_type": "stream",
     "text": [
      "90 A\n"
     ]
    }
   ],
   "source": [
    "score = random.randint(50, 100)\n",
    "grade = 'A' if score >= 90 else \\\n",
    "            'B' if score >= 80 else \\\n",
    "                'C' if score >= 70 else \\\n",
    "                    'D' if score >= 60 else 'F'\n",
    "print(score, grade)"
   ]
  },
  {
   "cell_type": "code",
   "execution_count": 5,
   "metadata": {},
   "outputs": [
    {
     "name": "stdout",
     "output_type": "stream",
     "text": [
      "89 Excellent\n"
     ]
    }
   ],
   "source": [
    "score = random.randint(50,100)\n",
    "grade = 'Excellent' if score >= 80 else \\\n",
    "            'Good' if score >= 60 else 'Poor'   \n",
    "print(score, grade)"
   ]
  },
  {
   "cell_type": "code",
   "execution_count": 1,
   "metadata": {},
   "outputs": [
    {
     "name": "stdout",
     "output_type": "stream",
     "text": [
      "23살의 요금은 1250원이고, 잔액은 7750원입니다.\n"
     ]
    }
   ],
   "source": [
    "age = int(input('나이 입력'))\n",
    "balance = 9000\n",
    "\n",
    "if 7 <= age <= 12:\n",
    "    fare = 650\n",
    "elif 13<= age <= 18:\n",
    "    fare = 1050\n",
    "elif age >= 19:\n",
    "    fare = 1250\n",
    "else:\n",
    "    fare = 0\n",
    "print(f'{age}살의 요금은 {fare}원이고, 잔액은 {balance-fare}원입니다.')"
   ]
  },
  {
   "cell_type": "code",
   "execution_count": 2,
   "metadata": {},
   "outputs": [
    {
     "name": "stdout",
     "output_type": "stream",
     "text": [
      "23살의 요금은 1,250원이고, 잔액은 7,750원입니다.\n"
     ]
    }
   ],
   "source": [
    "age = int(input('나이 입력'))\n",
    "balance = 9000\n",
    "\n",
    "if 7 <= age <= 12:\n",
    "    fare = 650\n",
    "elif 13<= age <= 18:\n",
    "    fare = 1050\n",
    "elif age >= 19:\n",
    "    fare = 1250\n",
    "else:\n",
    "    fare = 0\n",
    "print(f'{age}살의 요금은 {fare:,d}원이고, 잔액은 {balance-fare:,d}원입니다.')"
   ]
  },
  {
   "cell_type": "code",
   "execution_count": 12,
   "metadata": {},
   "outputs": [
    {
     "ename": "SyntaxError",
     "evalue": "invalid syntax (<ipython-input-12-9ee4cd3b8f86>, line 7)",
     "output_type": "error",
     "traceback": [
      "\u001b[1;36m  File \u001b[1;32m\"<ipython-input-12-9ee4cd3b8f86>\"\u001b[1;36m, line \u001b[1;32m7\u001b[0m\n\u001b[1;33m    print(balance -= 650)\u001b[0m\n\u001b[1;37m                  ^\u001b[0m\n\u001b[1;31mSyntaxError\u001b[0m\u001b[1;31m:\u001b[0m invalid syntax\n"
     ]
    }
   ],
   "source": [
    "# 표준 입력으로 나이(만 나이)가 입력됩니다(입력 값은 7 이상 입력됨). 교통카드 시스템에서 시내버스 요금은 다음과 같으며 각 나이에 맞게 요금을 차감한 뒤 잔액이 출력되게 만드세요(if, elif 사용). 현재 교통카드에는 9,000원이 들어있습니다. \n",
    "# 어린이(초등학생, 만 7세 이상 12세 이하): 650원 청소년(중∙고등학생, 만 13세 이상 18세 이하): 1,050원 어른(일반, 만 19세 이상): 1,250원\n",
    "\n",
    "age = int(input())\n",
    "balance = 9000          # 교통카드 잔액\n",
    "if 7 <= age <= 12:\n",
    "    print(balance -= 650)\n",
    "elif 13 <= age  <= 18:\n",
    "    print(balance -= 1050)\n",
    "elif 19 <= age:\n",
    "    print(balance -= 1250)\n",
    "print(balance)"
   ]
  },
  {
   "cell_type": "code",
   "execution_count": null,
   "metadata": {},
   "outputs": [],
   "source": []
  }
 ],
 "metadata": {
  "interpreter": {
   "hash": "72d8290bce898e2123793bdcf5016b68a0411406de21a03f1958d3a075c7de15"
  },
  "kernelspec": {
   "display_name": "Python 3.8.8 64-bit ('base': conda)",
   "language": "python",
   "name": "python3"
  },
  "language_info": {
   "codemirror_mode": {
    "name": "ipython",
    "version": 3
   },
   "file_extension": ".py",
   "mimetype": "text/x-python",
   "name": "python",
   "nbconvert_exporter": "python",
   "pygments_lexer": "ipython3",
   "version": "3.8.8"
  },
  "orig_nbformat": 4
 },
 "nbformat": 4,
 "nbformat_minor": 2
}
