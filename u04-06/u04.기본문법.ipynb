{
 "cells": [
  {
   "cell_type": "code",
   "execution_count": null,
   "metadata": {},
   "outputs": [],
   "source": []
  },
  {
   "cell_type": "markdown",
   "metadata": {},
   "source": [
    "# Unit 4. 기본문법"
   ]
  },
  {
   "cell_type": "code",
   "execution_count": 1,
   "metadata": {},
   "outputs": [
    {
     "name": "stdout",
     "output_type": "stream",
     "text": [
      "Hello, world!\n",
      "안녕하세요?\n"
     ]
    }
   ],
   "source": [
    "print('Hello, world!'); print('안녕하세요?')"
   ]
  },
  {
   "cell_type": "markdown",
   "metadata": {},
   "source": []
  },
  {
   "cell_type": "code",
   "execution_count": 2,
   "metadata": {},
   "outputs": [
    {
     "name": "stdout",
     "output_type": "stream",
     "text": [
      "This is comment.\n"
     ]
    }
   ],
   "source": [
    "# 한 줄 주석 (comment)\n",
    "print('This is comment.')"
   ]
  },
  {
   "cell_type": "code",
   "execution_count": 3,
   "metadata": {},
   "outputs": [
    {
     "data": {
      "text/plain": [
       "\"print('Hello, world!')\\nprint('안녕하세요?')\""
      ]
     },
     "execution_count": 3,
     "metadata": {},
     "output_type": "execute_result"
    }
   ],
   "source": [
    "# 블록 주석: ''' ''', \"\"\" \"\"\"\n",
    "'''print('Hello, world!')\n",
    "print('안녕하세요?')'''"
   ]
  },
  {
   "cell_type": "code",
   "execution_count": 4,
   "metadata": {},
   "outputs": [],
   "source": [
    "a = '''안녕!\n",
    "영희야'''      # 이 경우 ''' '''은 여러줄의 문자열 데이터를 가리킴"
   ]
  },
  {
   "cell_type": "code",
   "execution_count": 5,
   "metadata": {},
   "outputs": [
    {
     "name": "stdout",
     "output_type": "stream",
     "text": [
      "a는 10이 아닙니다.\n"
     ]
    }
   ],
   "source": [
    "# 들여쓰기(Indentation)\n",
    "if a == 10:\n",
    "    print('a는 10입니다.')\n",
    "else: \n",
    "    print('a는 10이 아닙니다.')"
   ]
  },
  {
   "cell_type": "code",
   "execution_count": 15,
   "metadata": {},
   "outputs": [
    {
     "name": "stdout",
     "output_type": "stream",
     "text": [
      "a는 10입니다.\n",
      "identation에 따라 출력되기도 합니다.\n"
     ]
    }
   ],
   "source": [
    "a = 10\n",
    "if a == 10:\n",
    "    print('a는 10입니다.')\n",
    "else: \n",
    "    print('a는 10이 아닙니다.')\n",
    "print('identation에 따라 출력되기도 합니다.')\n",
    "\n",
    "#tab을 어디에 하면 차이가 있는지\n",
    "#되돌릴 때 shift + tab\n",
    "#줄을 잘 맞춰야 함"
   ]
  },
  {
   "cell_type": "code",
   "execution_count": 16,
   "metadata": {},
   "outputs": [
    {
     "data": {
      "text/plain": [
       "\" if (a == 10) {\\n    print('a는 10입니다.');\\n} else {\\n    print('a는 10이 아닙니다.');\\n} \""
      ]
     },
     "execution_count": 16,
     "metadata": {},
     "output_type": "execute_result"
    }
   ],
   "source": [
    "#다른 프로그래밍 언어에서는 {}로 블럭을 나누는 것이 일반적이다.\n",
    "''' if (a == 10) {\n",
    "    print('a는 10입니다.');\n",
    "} else {\n",
    "    print('a는 10이 아닙니다.');\n",
    "} '''"
   ]
  },
  {
   "cell_type": "code",
   "execution_count": null,
   "metadata": {},
   "outputs": [],
   "source": []
  }
 ],
 "metadata": {
  "interpreter": {
   "hash": "c81169c30fb96244cfba0db287a0d3fd5325268de070a7a6116eecd4596df902"
  },
  "kernelspec": {
   "display_name": "Python 3.8.8 64-bit ('base': conda)",
   "language": "python",
   "name": "python3"
  },
  "language_info": {
   "codemirror_mode": {
    "name": "ipython",
    "version": 3
   },
   "file_extension": ".py",
   "mimetype": "text/x-python",
   "name": "python",
   "nbconvert_exporter": "python",
   "pygments_lexer": "ipython3",
   "version": "3.8.8"
  },
  "orig_nbformat": 4
 },
 "nbformat": 4,
 "nbformat_minor": 2
}
